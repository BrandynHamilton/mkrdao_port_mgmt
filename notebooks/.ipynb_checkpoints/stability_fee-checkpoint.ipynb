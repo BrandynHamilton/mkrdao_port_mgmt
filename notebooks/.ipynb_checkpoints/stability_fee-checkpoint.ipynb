{
 "cells": [
  {
   "cell_type": "code",
   "execution_count": 8,
   "id": "c9949111-28e3-4528-9856-e7e64f96aaba",
   "metadata": {},
   "outputs": [],
   "source": [
    "import streamlit as st\n",
    "import pandas as pd\n",
    "import requests\n",
    "import numpy as np\n",
    "import yfinance as yf\n",
    "from dune_client.client import DuneClient"
   ]
  },
  {
   "cell_type": "code",
   "execution_count": 9,
   "id": "bfc4d4db-211f-4bc0-a589-75e936f761bf",
   "metadata": {},
   "outputs": [
    {
     "name": "stderr",
     "output_type": "stream",
     "text": [
      "2024-03-21 10:16:38.905 WARNING streamlit.runtime.caching.cache_data_api: No runtime found, using MemoryCacheStorageManager\n"
     ]
    }
   ],
   "source": [
    "@st.cache_data()\n",
    "def fetch_dune_data(num):\n",
    "    result = dune.get_latest_result(num)\n",
    "    return pd.DataFrame(result.result.rows)"
   ]
  },
  {
   "cell_type": "code",
   "execution_count": 10,
   "id": "770f7326-6921-4459-821c-330ad1da983c",
   "metadata": {},
   "outputs": [],
   "source": [
    "api_key_dune = st.secrets[\"api_key\"]"
   ]
  },
  {
   "cell_type": "code",
   "execution_count": 11,
   "id": "4ec110d8-7974-42b6-a3c9-c2dde87b853d",
   "metadata": {},
   "outputs": [],
   "source": [
    "dune = DuneClient(api_key_dune)"
   ]
  },
  {
   "cell_type": "code",
   "execution_count": 16,
   "id": "a3b21a92-bbac-428a-8a77-3eeff1b24e50",
   "metadata": {},
   "outputs": [
    {
     "name": "stderr",
     "output_type": "stream",
     "text": [
      "2024-03-21 10:22:45,130 ERROR dune_client.models Can't build ResultsResponse from {'error': 'This api request would exceed your configured limits per request. Please visit your settings on dune.com and adjust your limits to continue usage.'} due to KeyError: 'execution_id'\n"
     ]
    },
    {
     "ename": "DuneError",
     "evalue": "Can't build ResultsResponse from {'error': 'This api request would exceed your configured limits per request. Please visit your settings on dune.com and adjust your limits to continue usage.'}",
     "output_type": "error",
     "traceback": [
      "\u001b[1;31m---------------------------------------------------------------------------\u001b[0m",
      "\u001b[1;31mKeyError\u001b[0m                                  Traceback (most recent call last)",
      "File \u001b[1;32m~\\anaconda3\\Lib\\site-packages\\dune_client\\api\\execution.py:140\u001b[0m, in \u001b[0;36mExecutionAPI._get_execution_results_by_url\u001b[1;34m(self, url, params)\u001b[0m\n\u001b[0;32m    139\u001b[0m \u001b[38;5;28;01mtry\u001b[39;00m:\n\u001b[1;32m--> 140\u001b[0m     \u001b[38;5;28;01mreturn\u001b[39;00m ResultsResponse\u001b[38;5;241m.\u001b[39mfrom_dict(response_json)\n\u001b[0;32m    141\u001b[0m \u001b[38;5;28;01mexcept\u001b[39;00m \u001b[38;5;167;01mKeyError\u001b[39;00m \u001b[38;5;28;01mas\u001b[39;00m err:\n",
      "File \u001b[1;32m~\\anaconda3\\Lib\\site-packages\\dune_client\\models.py:314\u001b[0m, in \u001b[0;36mResultsResponse.from_dict\u001b[1;34m(cls, data)\u001b[0m\n\u001b[0;32m    313\u001b[0m \u001b[38;5;250m\u001b[39m\u001b[38;5;124;03m\"\"\"Constructor from dictionary. See unit test for sample input.\"\"\"\u001b[39;00m\n\u001b[1;32m--> 314\u001b[0m \u001b[38;5;28;01massert\u001b[39;00m \u001b[38;5;28misinstance\u001b[39m(data[\u001b[38;5;124m\"\u001b[39m\u001b[38;5;124mexecution_id\u001b[39m\u001b[38;5;124m\"\u001b[39m], \u001b[38;5;28mstr\u001b[39m)\n\u001b[0;32m    315\u001b[0m \u001b[38;5;28;01massert\u001b[39;00m \u001b[38;5;28misinstance\u001b[39m(data[\u001b[38;5;124m\"\u001b[39m\u001b[38;5;124mquery_id\u001b[39m\u001b[38;5;124m\"\u001b[39m], \u001b[38;5;28mint\u001b[39m)\n",
      "\u001b[1;31mKeyError\u001b[0m: 'execution_id'",
      "\nThe above exception was the direct cause of the following exception:\n",
      "\u001b[1;31mDuneError\u001b[0m                                 Traceback (most recent call last)",
      "Cell \u001b[1;32mIn[16], line 1\u001b[0m\n\u001b[1;32m----> 1\u001b[0m vaults_raw \u001b[38;5;241m=\u001b[39m dune\u001b[38;5;241m.\u001b[39mget_latest_result(\u001b[38;5;241m3549119\u001b[39m)\n",
      "File \u001b[1;32m~\\anaconda3\\Lib\\site-packages\\dune_client\\api\\extensions.py:224\u001b[0m, in \u001b[0;36mExtendedAPI.get_latest_result\u001b[1;34m(self, query, max_age_hours, batch_size, columns, sample_count, filters, sort_by)\u001b[0m\n\u001b[0;32m    212\u001b[0m         results \u001b[38;5;241m=\u001b[39m \u001b[38;5;28mself\u001b[39m\u001b[38;5;241m.\u001b[39mrun_query(\n\u001b[0;32m    213\u001b[0m             query \u001b[38;5;28;01mif\u001b[39;00m \u001b[38;5;28misinstance\u001b[39m(query, QueryBase) \u001b[38;5;28;01melse\u001b[39;00m QueryBase(query_id),\n\u001b[0;32m    214\u001b[0m             columns\u001b[38;5;241m=\u001b[39mcolumns,\n\u001b[1;32m   (...)\u001b[0m\n\u001b[0;32m    218\u001b[0m             batch_size\u001b[38;5;241m=\u001b[39mbatch_size,\n\u001b[0;32m    219\u001b[0m         )\n\u001b[0;32m    220\u001b[0m     \u001b[38;5;28;01melse\u001b[39;00m:\n\u001b[0;32m    221\u001b[0m         \u001b[38;5;66;03m# The results are fresh enough, retrieve the entire result\u001b[39;00m\n\u001b[0;32m    222\u001b[0m         \u001b[38;5;66;03m# pylint: disable=duplicate-code\u001b[39;00m\n\u001b[0;32m    223\u001b[0m         results \u001b[38;5;241m=\u001b[39m \u001b[38;5;28mself\u001b[39m\u001b[38;5;241m.\u001b[39m_fetch_entire_result(\n\u001b[1;32m--> 224\u001b[0m             \u001b[38;5;28mself\u001b[39m\u001b[38;5;241m.\u001b[39mget_execution_results(\n\u001b[0;32m    225\u001b[0m                 metadata\u001b[38;5;241m.\u001b[39mexecution_id,\n\u001b[0;32m    226\u001b[0m                 columns\u001b[38;5;241m=\u001b[39mcolumns,\n\u001b[0;32m    227\u001b[0m                 sample_count\u001b[38;5;241m=\u001b[39msample_count,\n\u001b[0;32m    228\u001b[0m                 filters\u001b[38;5;241m=\u001b[39mfilters,\n\u001b[0;32m    229\u001b[0m                 sort_by\u001b[38;5;241m=\u001b[39msort_by,\n\u001b[0;32m    230\u001b[0m                 limit\u001b[38;5;241m=\u001b[39mbatch_size,\n\u001b[0;32m    231\u001b[0m             ),\n\u001b[0;32m    232\u001b[0m         )\n\u001b[0;32m    233\u001b[0m     \u001b[38;5;28;01mreturn\u001b[39;00m results\n\u001b[0;32m    234\u001b[0m \u001b[38;5;28;01mexcept\u001b[39;00m \u001b[38;5;167;01mKeyError\u001b[39;00m \u001b[38;5;28;01mas\u001b[39;00m err:\n",
      "File \u001b[1;32m~\\anaconda3\\Lib\\site-packages\\dune_client\\api\\execution.py:96\u001b[0m, in \u001b[0;36mExecutionAPI.get_execution_results\u001b[1;34m(self, job_id, limit, offset, columns, sample_count, filters, sort_by)\u001b[0m\n\u001b[0;32m     94\u001b[0m route \u001b[38;5;241m=\u001b[39m \u001b[38;5;124mf\u001b[39m\u001b[38;5;124m\"\u001b[39m\u001b[38;5;124m/execution/\u001b[39m\u001b[38;5;132;01m{\u001b[39;00mjob_id\u001b[38;5;132;01m}\u001b[39;00m\u001b[38;5;124m/results\u001b[39m\u001b[38;5;124m\"\u001b[39m\n\u001b[0;32m     95\u001b[0m url \u001b[38;5;241m=\u001b[39m \u001b[38;5;28mself\u001b[39m\u001b[38;5;241m.\u001b[39m_route_url(route)\n\u001b[1;32m---> 96\u001b[0m \u001b[38;5;28;01mreturn\u001b[39;00m \u001b[38;5;28mself\u001b[39m\u001b[38;5;241m.\u001b[39m_get_execution_results_by_url(url\u001b[38;5;241m=\u001b[39murl, params\u001b[38;5;241m=\u001b[39mparams)\n",
      "File \u001b[1;32m~\\anaconda3\\Lib\\site-packages\\dune_client\\api\\execution.py:142\u001b[0m, in \u001b[0;36mExecutionAPI._get_execution_results_by_url\u001b[1;34m(self, url, params)\u001b[0m\n\u001b[0;32m    140\u001b[0m     \u001b[38;5;28;01mreturn\u001b[39;00m ResultsResponse\u001b[38;5;241m.\u001b[39mfrom_dict(response_json)\n\u001b[0;32m    141\u001b[0m \u001b[38;5;28;01mexcept\u001b[39;00m \u001b[38;5;167;01mKeyError\u001b[39;00m \u001b[38;5;28;01mas\u001b[39;00m err:\n\u001b[1;32m--> 142\u001b[0m     \u001b[38;5;28;01mraise\u001b[39;00m DuneError(response_json, \u001b[38;5;124m\"\u001b[39m\u001b[38;5;124mResultsResponse\u001b[39m\u001b[38;5;124m\"\u001b[39m, err) \u001b[38;5;28;01mfrom\u001b[39;00m \u001b[38;5;21;01merr\u001b[39;00m\n",
      "\u001b[1;31mDuneError\u001b[0m: Can't build ResultsResponse from {'error': 'This api request would exceed your configured limits per request. Please visit your settings on dune.com and adjust your limits to continue usage.'}"
     ]
    }
   ],
   "source": [
    "vaults_raw = dune.get_latest_result(3549119)"
   ]
  },
  {
   "cell_type": "code",
   "execution_count": null,
   "id": "962c2bba-dbed-45c0-a1cc-4db9504a1482",
   "metadata": {},
   "outputs": [],
   "source": []
  }
 ],
 "metadata": {
  "kernelspec": {
   "display_name": "Python 3 (ipykernel)",
   "language": "python",
   "name": "python3"
  },
  "language_info": {
   "codemirror_mode": {
    "name": "ipython",
    "version": 3
   },
   "file_extension": ".py",
   "mimetype": "text/x-python",
   "name": "python",
   "nbconvert_exporter": "python",
   "pygments_lexer": "ipython3",
   "version": "3.11.5"
  }
 },
 "nbformat": 4,
 "nbformat_minor": 5
}
