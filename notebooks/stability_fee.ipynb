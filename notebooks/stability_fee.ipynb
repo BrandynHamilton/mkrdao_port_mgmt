{
 "cells": [
  {
   "cell_type": "code",
   "execution_count": 22,
   "id": "c9949111-28e3-4528-9856-e7e64f96aaba",
   "metadata": {},
   "outputs": [],
   "source": [
    "import streamlit as st\n",
    "import pandas as pd\n",
    "import requests\n",
    "import numpy as np\n",
    "import yfinance as yf\n",
    "from dune_client.client import DuneClient"
   ]
  },
  {
   "cell_type": "code",
   "execution_count": 23,
   "id": "bfc4d4db-211f-4bc0-a589-75e936f761bf",
   "metadata": {},
   "outputs": [
    {
     "name": "stderr",
     "output_type": "stream",
     "text": [
      "2024-03-21 10:24:10.244 WARNING streamlit.runtime.caching.cache_data_api: No runtime found, using MemoryCacheStorageManager\n"
     ]
    }
   ],
   "source": [
    "@st.cache_data()\n",
    "def fetch_dune_data(num):\n",
    "    result = dune.get_latest_result(num)\n",
    "    return pd.DataFrame(result.result.rows)"
   ]
  },
  {
   "cell_type": "code",
   "execution_count": 24,
   "id": "770f7326-6921-4459-821c-330ad1da983c",
   "metadata": {},
   "outputs": [],
   "source": [
    "api_key_dune = \"eQO8AY7znu89OCTsz352ejfMNInR5Or1\""
   ]
  },
  {
   "cell_type": "code",
   "execution_count": 25,
   "id": "4ec110d8-7974-42b6-a3c9-c2dde87b853d",
   "metadata": {},
   "outputs": [],
   "source": [
    "dune = DuneClient(api_key_dune)"
   ]
  },
  {
   "cell_type": "code",
   "execution_count": 41,
   "id": "a3b21a92-bbac-428a-8a77-3eeff1b24e50",
   "metadata": {},
   "outputs": [],
   "source": [
    "vaults_raw = dune.get_latest_result(3549154)"
   ]
  },
  {
   "cell_type": "code",
   "execution_count": 42,
   "id": "962c2bba-dbed-45c0-a1cc-4db9504a1482",
   "metadata": {},
   "outputs": [],
   "source": [
    "vaults_df = pd.DataFrame(vaults_raw.result.rows)\n",
    "vaults_df['day'] = pd.to_datetime(vaults_df['day'])\n",
    "vaults_df.set_index('day', inplace=True)\n",
    "vaults_df.index = vaults_df.index.normalize()\n",
    "vaults_df = vaults_df.sort_index()"
   ]
  },
  {
   "cell_type": "code",
   "execution_count": 43,
   "id": "119b20dc-b3ae-4738-835f-bd1920a7426e",
   "metadata": {},
   "outputs": [],
   "source": [
    "vaults_df = vaults_df.iloc[::-1]"
   ]
  },
  {
   "cell_type": "code",
   "execution_count": 44,
   "id": "a2c0ee03-6f30-4634-8795-f36c67d5ad5f",
   "metadata": {},
   "outputs": [
    {
     "data": {
      "text/html": [
       "<div>\n",
       "<style scoped>\n",
       "    .dataframe tbody tr th:only-of-type {\n",
       "        vertical-align: middle;\n",
       "    }\n",
       "\n",
       "    .dataframe tbody tr th {\n",
       "        vertical-align: top;\n",
       "    }\n",
       "\n",
       "    .dataframe thead th {\n",
       "        text-align: right;\n",
       "    }\n",
       "</style>\n",
       "<table border=\"1\" class=\"dataframe\">\n",
       "  <thead>\n",
       "    <tr style=\"text-align: right;\">\n",
       "      <th></th>\n",
       "      <th>collateral_type</th>\n",
       "      <th>output_rate</th>\n",
       "    </tr>\n",
       "    <tr>\n",
       "      <th>day</th>\n",
       "      <th></th>\n",
       "      <th></th>\n",
       "    </tr>\n",
       "  </thead>\n",
       "  <tbody>\n",
       "    <tr>\n",
       "      <th>2024-03-21 00:00:00+00:00</th>\n",
       "      <td>ETH-A</td>\n",
       "      <td>1132596879609893102521953178</td>\n",
       "    </tr>\n",
       "    <tr>\n",
       "      <th>2024-03-21 00:00:00+00:00</th>\n",
       "      <td>ETH-C</td>\n",
       "      <td>1056993311937681605722163769</td>\n",
       "    </tr>\n",
       "    <tr>\n",
       "      <th>2024-03-21 00:00:00+00:00</th>\n",
       "      <td>ETH-C</td>\n",
       "      <td>1056978528054661067089455167</td>\n",
       "    </tr>\n",
       "    <tr>\n",
       "      <th>2024-03-21 00:00:00+00:00</th>\n",
       "      <td>ETH-A</td>\n",
       "      <td>1132428859469437324358120661</td>\n",
       "    </tr>\n",
       "    <tr>\n",
       "      <th>2024-03-21 00:00:00+00:00</th>\n",
       "      <td>WSTETH-A</td>\n",
       "      <td>1079672149335773859870660086</td>\n",
       "    </tr>\n",
       "  </tbody>\n",
       "</table>\n",
       "</div>"
      ],
      "text/plain": [
       "                          collateral_type                   output_rate\n",
       "day                                                                    \n",
       "2024-03-21 00:00:00+00:00           ETH-A  1132596879609893102521953178\n",
       "2024-03-21 00:00:00+00:00           ETH-C  1056993311937681605722163769\n",
       "2024-03-21 00:00:00+00:00           ETH-C  1056978528054661067089455167\n",
       "2024-03-21 00:00:00+00:00           ETH-A  1132428859469437324358120661\n",
       "2024-03-21 00:00:00+00:00        WSTETH-A  1079672149335773859870660086"
      ]
     },
     "execution_count": 44,
     "metadata": {},
     "output_type": "execute_result"
    }
   ],
   "source": [
    "vaults_df.head()"
   ]
  },
  {
   "cell_type": "code",
   "execution_count": 50,
   "id": "11a12354-258f-4329-9112-af5ed564fb86",
   "metadata": {},
   "outputs": [
    {
     "name": "stdout",
     "output_type": "stream",
     "text": [
      "                          collateral_type   output_rate normalized_rate  APR\n",
      "day                                                                         \n",
      "2024-03-21 00:00:00+00:00           ETH-A  1.132597e+27        1.132597  inf\n",
      "2024-03-21 00:00:00+00:00           ETH-C  1.056993e+27        1.056993  inf\n",
      "2024-03-21 00:00:00+00:00           ETH-C  1.056979e+27        1.056979  inf\n",
      "2024-03-21 00:00:00+00:00           ETH-A  1.132429e+27        1.132429  inf\n",
      "2024-03-21 00:00:00+00:00        WSTETH-A  1.079672e+27        1.079672  inf\n"
     ]
    },
    {
     "name": "stderr",
     "output_type": "stream",
     "text": [
      "C:\\Users\\brandyns pc\\AppData\\Local\\Temp\\ipykernel_31920\\2094906498.py:2: RuntimeWarning: overflow encountered in exp\n",
      "  vaults_df['APR'] = vaults_df['normalized_rate'].apply(lambda x: (np.exp(x * seconds_per_year) - 1) * 100)\n"
     ]
    }
   ],
   "source": [
    "# Correct the APR calculation using apply()\n",
    "vaults_df['APR'] = vaults_df['normalized_rate'].apply(lambda x: (np.exp(x * seconds_per_year) - 1) * 100)\n",
    "\n",
    "# Display the adjusted DataFrame\n",
    "print(vaults_df.head())\n"
   ]
  },
  {
   "cell_type": "code",
   "execution_count": 48,
   "id": "c30fc0b2-49be-4e31-89b6-dbde49ea0861",
   "metadata": {},
   "outputs": [
    {
     "data": {
      "text/html": [
       "<div>\n",
       "<style scoped>\n",
       "    .dataframe tbody tr th:only-of-type {\n",
       "        vertical-align: middle;\n",
       "    }\n",
       "\n",
       "    .dataframe tbody tr th {\n",
       "        vertical-align: top;\n",
       "    }\n",
       "\n",
       "    .dataframe thead th {\n",
       "        text-align: right;\n",
       "    }\n",
       "</style>\n",
       "<table border=\"1\" class=\"dataframe\">\n",
       "  <thead>\n",
       "    <tr style=\"text-align: right;\">\n",
       "      <th></th>\n",
       "      <th>collateral_type</th>\n",
       "      <th>output_rate</th>\n",
       "      <th>normalized_rate</th>\n",
       "      <th>APR</th>\n",
       "    </tr>\n",
       "    <tr>\n",
       "      <th>day</th>\n",
       "      <th></th>\n",
       "      <th></th>\n",
       "      <th></th>\n",
       "      <th></th>\n",
       "    </tr>\n",
       "  </thead>\n",
       "  <tbody>\n",
       "    <tr>\n",
       "      <th>2024-03-21 00:00:00+00:00</th>\n",
       "      <td>ETH-A</td>\n",
       "      <td>1.132597e+27</td>\n",
       "      <td>1.132597</td>\n",
       "      <td>113.259688</td>\n",
       "    </tr>\n",
       "    <tr>\n",
       "      <th>2024-03-21 00:00:00+00:00</th>\n",
       "      <td>ETH-C</td>\n",
       "      <td>1.056993e+27</td>\n",
       "      <td>1.056993</td>\n",
       "      <td>105.699331</td>\n",
       "    </tr>\n",
       "    <tr>\n",
       "      <th>2024-03-21 00:00:00+00:00</th>\n",
       "      <td>ETH-C</td>\n",
       "      <td>1.056979e+27</td>\n",
       "      <td>1.056979</td>\n",
       "      <td>105.697853</td>\n",
       "    </tr>\n",
       "    <tr>\n",
       "      <th>2024-03-21 00:00:00+00:00</th>\n",
       "      <td>ETH-A</td>\n",
       "      <td>1.132429e+27</td>\n",
       "      <td>1.132429</td>\n",
       "      <td>113.242886</td>\n",
       "    </tr>\n",
       "    <tr>\n",
       "      <th>2024-03-21 00:00:00+00:00</th>\n",
       "      <td>WSTETH-A</td>\n",
       "      <td>1.079672e+27</td>\n",
       "      <td>1.079672</td>\n",
       "      <td>107.967215</td>\n",
       "    </tr>\n",
       "  </tbody>\n",
       "</table>\n",
       "</div>"
      ],
      "text/plain": [
       "                          collateral_type   output_rate normalized_rate  \\\n",
       "day                                                                       \n",
       "2024-03-21 00:00:00+00:00           ETH-A  1.132597e+27        1.132597   \n",
       "2024-03-21 00:00:00+00:00           ETH-C  1.056993e+27        1.056993   \n",
       "2024-03-21 00:00:00+00:00           ETH-C  1.056979e+27        1.056979   \n",
       "2024-03-21 00:00:00+00:00           ETH-A  1.132429e+27        1.132429   \n",
       "2024-03-21 00:00:00+00:00        WSTETH-A  1.079672e+27        1.079672   \n",
       "\n",
       "                                  APR  \n",
       "day                                    \n",
       "2024-03-21 00:00:00+00:00  113.259688  \n",
       "2024-03-21 00:00:00+00:00  105.699331  \n",
       "2024-03-21 00:00:00+00:00  105.697853  \n",
       "2024-03-21 00:00:00+00:00  113.242886  \n",
       "2024-03-21 00:00:00+00:00  107.967215  "
      ]
     },
     "execution_count": 48,
     "metadata": {},
     "output_type": "execute_result"
    }
   ],
   "source": [
    "vaults_df.head()"
   ]
  },
  {
   "cell_type": "code",
   "execution_count": null,
   "id": "d1c32867-a59a-4527-8663-5fba82de5538",
   "metadata": {},
   "outputs": [],
   "source": []
  }
 ],
 "metadata": {
  "kernelspec": {
   "display_name": "Python 3 (ipykernel)",
   "language": "python",
   "name": "python3"
  },
  "language_info": {
   "codemirror_mode": {
    "name": "ipython",
    "version": 3
   },
   "file_extension": ".py",
   "mimetype": "text/x-python",
   "name": "python",
   "nbconvert_exporter": "python",
   "pygments_lexer": "ipython3",
   "version": "3.11.5"
  }
 },
 "nbformat": 4,
 "nbformat_minor": 5
}
