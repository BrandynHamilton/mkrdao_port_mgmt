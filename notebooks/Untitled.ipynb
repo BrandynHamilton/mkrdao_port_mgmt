{
 "cells": [
  {
   "cell_type": "code",
   "execution_count": 6,
   "id": "71735cbe-7728-41ec-8b27-1f25e1ec58f1",
   "metadata": {},
   "outputs": [],
   "source": [
    "import streamlit as st\n",
    "import pandas as pd\n",
    "import requests\n",
    "import numpy as np\n",
    "import yfinance as yf\n",
    "from dune_client.client import DuneClient"
   ]
  },
  {
   "cell_type": "code",
   "execution_count": 7,
   "id": "76114f3f-2b62-467f-bfc6-1d0221c8f483",
   "metadata": {},
   "outputs": [],
   "source": [
    "api_key_dune = \"lGbRGypgtygCleDuZKbZtXRH0AAgIvbI\""
   ]
  },
  {
   "cell_type": "code",
   "execution_count": 10,
   "id": "665de0aa-6446-45d3-b127-21d498b182cb",
   "metadata": {},
   "outputs": [],
   "source": [
    "dune = DuneClient(api_key_dune)"
   ]
  },
  {
   "cell_type": "code",
   "execution_count": 15,
   "id": "1e44e5f5-092e-4d32-bb23-373fb3f984b3",
   "metadata": {},
   "outputs": [],
   "source": [
    "result = dune.get_latest_result(3568180)\n",
    "results = pd.DataFrame(result.result.rows)"
   ]
  },
  {
   "cell_type": "code",
   "execution_count": null,
   "id": "9cb40b24-c2a7-48b8-8c0f-28eca7e1cf8b",
   "metadata": {},
   "outputs": [],
   "source": []
  }
 ],
 "metadata": {
  "kernelspec": {
   "display_name": "Python 3 (ipykernel)",
   "language": "python",
   "name": "python3"
  },
  "language_info": {
   "codemirror_mode": {
    "name": "ipython",
    "version": 3
   },
   "file_extension": ".py",
   "mimetype": "text/x-python",
   "name": "python",
   "nbconvert_exporter": "python",
   "pygments_lexer": "ipython3",
   "version": "3.11.5"
  }
 },
 "nbformat": 4,
 "nbformat_minor": 5
}
